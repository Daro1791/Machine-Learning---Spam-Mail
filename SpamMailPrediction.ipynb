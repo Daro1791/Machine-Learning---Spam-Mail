{
 "cells": [
  {
   "cell_type": "code",
   "execution_count": 28,
   "metadata": {},
   "outputs": [],
   "source": [
    "# Spam mail prediction using Machine Learning."
   ]
  },
  {
   "cell_type": "code",
   "execution_count": 29,
   "metadata": {},
   "outputs": [],
   "source": [
    "# let’s import the libraries we are going to use\n",
    "\n",
    "import numpy as np\n",
    "import pandas as pd\n",
    "\n",
    "import matplotlib.pyplot as plt\n",
    "import seaborn as sns\n",
    "\n",
    "from sklearn.model_selection import train_test_split\n",
    "from sklearn.feature_extraction.text import TfidfVectorizer\n",
    "\n",
    "from sklearn.linear_model import LogisticRegression\n",
    "from sklearn.metrics import confusion_matrix, accuracy_score, precision_score, recall_score, f1_score, classification_report"
   ]
  },
  {
   "cell_type": "code",
   "execution_count": 30,
   "metadata": {},
   "outputs": [],
   "source": [
    "# Loading the dataset using pandas\n",
    "df = pd.read_csv('mail_data.csv')"
   ]
  },
  {
   "cell_type": "code",
   "execution_count": 31,
   "metadata": {},
   "outputs": [
    {
     "name": "stdout",
     "output_type": "stream",
     "text": [
      "df\n",
      "Head\n",
      "  Category                                            Message\n",
      "0      ham  Go until jurong point, crazy.. Available only ...\n",
      "1      ham                      Ok lar... Joking wif u oni...\n",
      "2     spam  Free entry in 2 a wkly comp to win FA Cup fina...\n",
      "3      ham  U dun say so early hor... U c already then say...\n",
      "4      ham  Nah I don't think he goes to usf, he lives aro...\n",
      "Tail\n",
      "     Category                                            Message\n",
      "5567     spam  This is the 2nd time we have tried 2 contact u...\n",
      "5568      ham               Will ü b going to esplanade fr home?\n",
      "5569      ham  Pity, * was in mood for that. So...any other s...\n",
      "5570      ham  The guy did some bitching but I acted like i'd...\n",
      "5571      ham                         Rofl. Its true to its name\n",
      "Shape: (5572, 2)\n"
     ]
    }
   ],
   "source": [
    "# Summarize the Dataset\n",
    "print('df')\n",
    "print('Head')\n",
    "print(df.head())\n",
    "print('Tail')\n",
    "print(df.tail())\n",
    "print('Shape:', df.shape)"
   ]
  },
  {
   "cell_type": "code",
   "execution_count": 32,
   "metadata": {},
   "outputs": [
    {
     "name": "stdout",
     "output_type": "stream",
     "text": [
      "Missing data\n",
      "Category    0\n",
      "Message     0\n",
      "dtype: int64\n",
      "Missing data in percentage\n",
      "Category    0.0\n",
      "Message     0.0\n",
      "dtype: float64\n"
     ]
    }
   ],
   "source": [
    "# It contains 2 columns and 5572 rows.\n",
    "# The first column is the category (ham or spam) and the second column is the mail content.\n",
    "\n",
    "# We see if there is missing data\n",
    "print(\"Missing data\")\n",
    "print(df.isnull().sum())\n",
    "# In percentage\n",
    "print(\"Missing data in percentage\")\n",
    "print(round(df.isnull().sum()/df.shape[0]*100,2))"
   ]
  },
  {
   "cell_type": "code",
   "execution_count": 33,
   "metadata": {},
   "outputs": [
    {
     "data": {
      "text/plain": [
       "Category    object\n",
       "Message     object\n",
       "dtype: object"
      ]
     },
     "execution_count": 33,
     "metadata": {},
     "output_type": "execute_result"
    }
   ],
   "source": [
    "# There is no missing data\n",
    "\n",
    "# Let's know the type of data\n",
    "df.dtypes"
   ]
  },
  {
   "cell_type": "code",
   "execution_count": 34,
   "metadata": {},
   "outputs": [
    {
     "data": {
      "image/png": "[encoded data removed]",
      "text/plain": [
       "<Figure size 432x432 with 1 Axes>"
      ]
     },
     "metadata": {
      "needs_background": "light"
     },
     "output_type": "display_data"
    }
   ],
   "source": [
    "# Category column content \n",
    "plt.figure(figsize=(6,6))\n",
    "sns.countplot(x='Category', data=df)\n",
    "plt.savefig('Category_Content.jpg')\n",
    "plt.show()"
   ]
  },
  {
   "cell_type": "code",
   "execution_count": 35,
   "metadata": {},
   "outputs": [],
   "source": [
    "# That's unbalanced!\n",
    "# Let's transform the category column into numerical column (ham --> 0 ; spam --> 1) \n",
    "df.loc[df['Category'] == 'ham', 'Category',] = 0\n",
    "df.loc[df['Category'] == 'spam', 'Category',] = 1"
   ]
  },
  {
   "cell_type": "code",
   "execution_count": 36,
   "metadata": {},
   "outputs": [],
   "source": [
    "# Working with unbalanced data\n",
    "# Under-sampling\n",
    "\n",
    "# Let's divide the data into legit and fraud\n",
    "ham = df[df.Category == 0]\n",
    "spam = df[df.Category == 1]"
   ]
  },
  {
   "cell_type": "code",
   "execution_count": 37,
   "metadata": {},
   "outputs": [
    {
     "name": "stdout",
     "output_type": "stream",
     "text": [
      "Ham shape:  (4825, 2)\n",
      "Spam shape:  (747, 2)\n"
     ]
    }
   ],
   "source": [
    "print('Ham shape: ', ham.shape)\n",
    "print('Spam shape: ', spam.shape)"
   ]
  },
  {
   "cell_type": "code",
   "execution_count": 38,
   "metadata": {},
   "outputs": [],
   "source": [
    "# There are 492 fraud data\n",
    "# Let's build a sample dataset with equal distribution of legit transactions and fraudulent transactions and concatening\n",
    "# these into new dataset\n",
    "\n",
    "ham_sample = ham.sample(n=spam.shape[0])\n",
    "df_US = pd.concat([ham_sample, spam], axis=0) # (US: UnderSampling)"
   ]
  },
  {
   "cell_type": "code",
   "execution_count": 39,
   "metadata": {},
   "outputs": [],
   "source": [
    "# Separating the data\n",
    "\n",
    "X = df_US['Message']\n",
    "Y = df_US['Category']"
   ]
  },
  {
   "cell_type": "code",
   "execution_count": 40,
   "metadata": {},
   "outputs": [],
   "source": [
    "# Split out df_US into traina nd test\n",
    "X_train, X_test, Y_train, Y_test = train_test_split(X, Y, test_size = 0.2, stratify=Y, random_state=2)"
   ]
  },
  {
   "cell_type": "code",
   "execution_count": 41,
   "metadata": {},
   "outputs": [],
   "source": [
    "# Transform the text data to feature vectors that can be used as input to the Logistic regression\n",
    "\n",
    "feature_extraction = TfidfVectorizer(min_df = 1, stop_words='english', lowercase='True')\n",
    "\n",
    "X_train_features = feature_extraction.fit_transform(X_train)\n",
    "X_test_features = feature_extraction.transform(X_test)\n",
    "\n",
    "# Convert Y_train and Y_test values as integers\n",
    "\n",
    "Y_train = Y_train.astype('int')\n",
    "Y_test = Y_test.astype('int')"
   ]
  },
  {
   "cell_type": "code",
   "execution_count": 42,
   "metadata": {},
   "outputs": [
    {
     "name": "stdout",
     "output_type": "stream",
     "text": [
      "Logistic Regression:\n",
      "Train set 0.9841\n",
      "Test set 0.9398\n"
     ]
    }
   ],
   "source": [
    "# Logistic Regression and metrics\n",
    "Logistic = LogisticRegression()\n",
    "Logistic.fit(X_train_features, Y_train)\n",
    "Y_pred = Logistic.predict(X_test_features)\n",
    "print('Logistic Regression:')\n",
    "print('Train set', round(Logistic.score(X_train_features, Y_train), 4))\n",
    "print('Test set', round(Logistic.score(X_test_features, Y_test), 4))"
   ]
  },
  {
   "cell_type": "code",
   "execution_count": 43,
   "metadata": {},
   "outputs": [
    {
     "name": "stdout",
     "output_type": "stream",
     "text": [
      "Confusion Matrix:\n",
      "[[148   2]\n",
      " [ 16 133]]\n",
      "Accuracy: 0.9398\n",
      "Precision: 0.9852\n",
      "Recall: 0.8926\n",
      "F1 Score: 0.9366\n",
      "Classification Report:\n",
      "              precision    recall  f1-score   support\n",
      "\n",
      "           0       0.90      0.99      0.94       150\n",
      "           1       0.99      0.89      0.94       149\n",
      "\n",
      "    accuracy                           0.94       299\n",
      "   macro avg       0.94      0.94      0.94       299\n",
      "weighted avg       0.94      0.94      0.94       299\n",
      "\n"
     ]
    }
   ],
   "source": [
    "# Metrics\n",
    "matrix = confusion_matrix(Y_test, Y_pred) \n",
    "print('Confusion Matrix:') # Confusion Matrix [TN FP] ; [FN, TP]\n",
    "print(matrix)\n",
    "\n",
    "accuracy = accuracy_score(Y_test, Y_pred) # Accuracy: TN+TP / TN+TP+FN+FP\n",
    "print('Accuracy:', round(accuracy, 4))\n",
    "\n",
    "precision = precision_score(Y_test, Y_pred) # Precision: TP / TP+FP\n",
    "print('Precision:', round(precision,4))\n",
    "\n",
    "recall = recall_score(Y_test, Y_pred) # Recall: TP / TP+FN\n",
    "print('Recall:', round(recall, 4))\n",
    "\n",
    "f1 = f1_score(Y_test, Y_pred) # F1 Score (precision+recall): 2TP / 2TP+FN+FP\n",
    "print('F1 Score:', round(f1, 4))\n",
    "\n",
    "classificationRep = classification_report(Y_test, Y_pred) # Classification Report\n",
    "print('Classification Report:')\n",
    "print(classificationRep)"
   ]
  }
 ],
 "metadata": {
  "kernelspec": {
   "display_name": "Python 3",
   "language": "python",
   "name": "python3"
  },
  "language_info": {
   "codemirror_mode": {
    "name": "ipython",
    "version": 3
   },
   "file_extension": ".py",
   "mimetype": "text/x-python",
   "name": "python",
   "nbconvert_exporter": "python",
   "pygments_lexer": "ipython3",
   "version": "3.8.5"
  }
 },
 "nbformat": 4,
 "nbformat_minor": 4
}
